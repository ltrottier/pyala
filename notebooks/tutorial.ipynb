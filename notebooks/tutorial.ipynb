{
 "cells": [
  {
   "cell_type": "code",
   "execution_count": 1,
   "id": "fd3533d7",
   "metadata": {},
   "outputs": [],
   "source": [
    "%load_ext autoreload\n",
    "%autoreload 2"
   ]
  },
  {
   "cell_type": "code",
   "execution_count": 15,
   "id": "2b10462d",
   "metadata": {},
   "outputs": [],
   "source": [
    "import numbers\n",
    "import ast\n",
    "import inspect\n",
    "from pyala import pyala"
   ]
  },
  {
   "cell_type": "code",
   "execution_count": null,
   "id": "a51c4966",
   "metadata": {},
   "outputs": [],
   "source": []
  },
  {
   "cell_type": "code",
   "execution_count": 88,
   "id": "0d453467",
   "metadata": {},
   "outputs": [],
   "source": [
    "def to_dict(node):\n",
    "\n",
    "    if isinstance(node, complex):\n",
    "        return {\"class\": \"complex\", \"real\": node.real, \"imag\": node.imag}\n",
    "    elif isinstance(node, str):\n",
    "        return node\n",
    "    elif isinstance(node, numbers.Number):\n",
    "        return node\n",
    "    elif isinstance(node, list):\n",
    "        return [to_dict(each) for each in node]\n",
    "    elif isinstance(node, ast.AST):\n",
    "        data = {\n",
    "            \"class\": node.__class__.__name__,\n",
    "            **{\n",
    "                field: to_dict(value)\n",
    "                for field, value in ast.iter_fields(node)\n",
    "            }\n",
    "        }\n",
    "        return data\n",
    "    return node"
   ]
  },
  {
   "cell_type": "code",
   "execution_count": 89,
   "id": "022cd484",
   "metadata": {},
   "outputs": [
    {
     "data": {
      "text/plain": [
       "[(4, 3), (4, 6), (4, 9), (8, 3), (8, 6), (8, 9)]"
      ]
     },
     "execution_count": 89,
     "metadata": {},
     "output_type": "execute_result"
    }
   ],
   "source": [
    "def foo(x: int):\n",
    "    z = [1,2,3,4,5,6,7,8,9,10]\n",
    "    y = [(i,j) for i in z if i % 2 == 0 if i % 4 == 0 for j in z if j % 3 == 0]\n",
    "    return y\n",
    "foo(4)"
   ]
  },
  {
   "cell_type": "code",
   "execution_count": 90,
   "id": "af037c9b",
   "metadata": {},
   "outputs": [
    {
     "data": {
      "text/plain": [
       "{'class': 'Module',\n",
       " 'body': [{'class': 'FunctionDef',\n",
       "   'name': 'foo',\n",
       "   'args': {'class': 'arguments',\n",
       "    'posonlyargs': [],\n",
       "    'args': [{'class': 'arg',\n",
       "      'arg': 'x',\n",
       "      'annotation': {'class': 'Name', 'id': 'int', 'ctx': {'class': 'Load'}},\n",
       "      'type_comment': None}],\n",
       "    'vararg': None,\n",
       "    'kwonlyargs': [],\n",
       "    'kw_defaults': [],\n",
       "    'kwarg': None,\n",
       "    'defaults': []},\n",
       "   'body': [{'class': 'Assign',\n",
       "     'targets': [{'class': 'Name', 'id': 'z', 'ctx': {'class': 'Store'}}],\n",
       "     'value': {'class': 'List',\n",
       "      'elts': [{'class': 'Constant', 'value': 1, 'kind': None},\n",
       "       {'class': 'Constant', 'value': 2, 'kind': None},\n",
       "       {'class': 'Constant', 'value': 3, 'kind': None},\n",
       "       {'class': 'Constant', 'value': 4, 'kind': None},\n",
       "       {'class': 'Constant', 'value': 5, 'kind': None},\n",
       "       {'class': 'Constant', 'value': 6, 'kind': None},\n",
       "       {'class': 'Constant', 'value': 7, 'kind': None},\n",
       "       {'class': 'Constant', 'value': 8, 'kind': None},\n",
       "       {'class': 'Constant', 'value': 9, 'kind': None},\n",
       "       {'class': 'Constant', 'value': 10, 'kind': None}],\n",
       "      'ctx': {'class': 'Load'}},\n",
       "     'type_comment': None},\n",
       "    {'class': 'Assign',\n",
       "     'targets': [{'class': 'Name', 'id': 'y', 'ctx': {'class': 'Store'}}],\n",
       "     'value': {'class': 'ListComp',\n",
       "      'elt': {'class': 'Tuple',\n",
       "       'elts': [{'class': 'Name', 'id': 'i', 'ctx': {'class': 'Load'}},\n",
       "        {'class': 'Name', 'id': 'j', 'ctx': {'class': 'Load'}}],\n",
       "       'ctx': {'class': 'Load'}},\n",
       "      'generators': [{'class': 'comprehension',\n",
       "        'target': {'class': 'Name', 'id': 'i', 'ctx': {'class': 'Store'}},\n",
       "        'iter': {'class': 'Name', 'id': 'z', 'ctx': {'class': 'Load'}},\n",
       "        'ifs': [{'class': 'Compare',\n",
       "          'left': {'class': 'BinOp',\n",
       "           'left': {'class': 'Name', 'id': 'i', 'ctx': {'class': 'Load'}},\n",
       "           'op': {'class': 'Mod'},\n",
       "           'right': {'class': 'Constant', 'value': 2, 'kind': None}},\n",
       "          'ops': [{'class': 'Eq'}],\n",
       "          'comparators': [{'class': 'Constant', 'value': 0, 'kind': None}]},\n",
       "         {'class': 'Compare',\n",
       "          'left': {'class': 'BinOp',\n",
       "           'left': {'class': 'Name', 'id': 'i', 'ctx': {'class': 'Load'}},\n",
       "           'op': {'class': 'Mod'},\n",
       "           'right': {'class': 'Constant', 'value': 4, 'kind': None}},\n",
       "          'ops': [{'class': 'Eq'}],\n",
       "          'comparators': [{'class': 'Constant', 'value': 0, 'kind': None}]}],\n",
       "        'is_async': 0},\n",
       "       {'class': 'comprehension',\n",
       "        'target': {'class': 'Name', 'id': 'j', 'ctx': {'class': 'Store'}},\n",
       "        'iter': {'class': 'Name', 'id': 'z', 'ctx': {'class': 'Load'}},\n",
       "        'ifs': [{'class': 'Compare',\n",
       "          'left': {'class': 'BinOp',\n",
       "           'left': {'class': 'Name', 'id': 'j', 'ctx': {'class': 'Load'}},\n",
       "           'op': {'class': 'Mod'},\n",
       "           'right': {'class': 'Constant', 'value': 3, 'kind': None}},\n",
       "          'ops': [{'class': 'Eq'}],\n",
       "          'comparators': [{'class': 'Constant', 'value': 0, 'kind': None}]}],\n",
       "        'is_async': 0}]},\n",
       "     'type_comment': None},\n",
       "    {'class': 'Return',\n",
       "     'value': {'class': 'Name', 'id': 'y', 'ctx': {'class': 'Load'}}}],\n",
       "   'decorator_list': [],\n",
       "   'returns': None,\n",
       "   'type_comment': None}],\n",
       " 'type_ignores': []}"
      ]
     },
     "execution_count": 90,
     "metadata": {},
     "output_type": "execute_result"
    }
   ],
   "source": [
    "to_dict(ast.parse(inspect.getsource(foo)))"
   ]
  },
  {
   "cell_type": "code",
   "execution_count": 91,
   "id": "7953344a",
   "metadata": {},
   "outputs": [
    {
     "name": "stdout",
     "output_type": "stream",
     "text": [
      "def foo(x: Integer) = {\n",
      "  var z = scala.collection.mutable.Buffer(1, 2, 3, 4, 5, 6, 7, 8, 9, 10)\n",
      "  var y = for {\n",
      "    i <- z if (((i % 2)  ==  0) && ((i % 4)  ==  0))\n",
      "    j <- z if (((j % 3)  ==  0))\n",
      "  } yield (i, j)\n",
      "  y\n",
      "}\n"
     ]
    }
   ],
   "source": [
    "print(pyala.to_str(foo))"
   ]
  },
  {
   "cell_type": "code",
   "execution_count": null,
   "id": "b101d487",
   "metadata": {},
   "outputs": [],
   "source": []
  },
  {
   "cell_type": "code",
   "execution_count": null,
   "id": "47061ad9",
   "metadata": {},
   "outputs": [],
   "source": []
  }
 ],
 "metadata": {
  "kernelspec": {
   "display_name": "Python 3 (ipykernel)",
   "language": "python",
   "name": "python3"
  },
  "language_info": {
   "codemirror_mode": {
    "name": "ipython",
    "version": 3
   },
   "file_extension": ".py",
   "mimetype": "text/x-python",
   "name": "python",
   "nbconvert_exporter": "python",
   "pygments_lexer": "ipython3",
   "version": "3.10.4"
  }
 },
 "nbformat": 4,
 "nbformat_minor": 5
}
