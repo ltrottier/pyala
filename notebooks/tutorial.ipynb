{
 "cells": [
  {
   "cell_type": "code",
   "execution_count": 1,
   "id": "116b31c9",
   "metadata": {},
   "outputs": [],
   "source": [
    "%load_ext autoreload\n",
    "%autoreload 2"
   ]
  },
  {
   "cell_type": "code",
   "execution_count": 15,
   "id": "ea018b05",
   "metadata": {},
   "outputs": [],
   "source": [
    "import numbers\n",
    "import ast\n",
    "import inspect\n",
    "from pyala import pyala"
   ]
  },
  {
   "cell_type": "code",
   "execution_count": null,
   "id": "ac438971",
   "metadata": {},
   "outputs": [],
   "source": []
  },
  {
   "cell_type": "code",
   "execution_count": 88,
   "id": "5a01fa42",
   "metadata": {},
   "outputs": [],
   "source": [
    "def to_dict(node):\n",
    "\n",
    "    if isinstance(node, complex):\n",
    "        return {\"class\": \"complex\", \"real\": node.real, \"imag\": node.imag}\n",
    "    elif isinstance(node, str):\n",
    "        return node\n",
    "    elif isinstance(node, numbers.Number):\n",
    "        return node\n",
    "    elif isinstance(node, list):\n",
    "        return [to_dict(each) for each in node]\n",
    "    elif isinstance(node, ast.AST):\n",
    "        data = {\n",
    "            \"class\": node.__class__.__name__,\n",
    "            **{\n",
    "                field: to_dict(value)\n",
    "                for field, value in ast.iter_fields(node)\n",
    "            }\n",
    "        }\n",
    "        return data\n",
    "    return node"
   ]
  },
  {
   "cell_type": "code",
   "execution_count": 130,
   "id": "e35259cf",
   "metadata": {},
   "outputs": [
    {
     "data": {
      "text/plain": [
       "[1, 2, 13, 4, 14, 6, 15, 8, 9, 10]"
      ]
     },
     "execution_count": 130,
     "metadata": {},
     "output_type": "execute_result"
    }
   ],
   "source": [
    "def foo(x: int):\n",
    "    z = [1,2,3,4,5,6,7,8,9,10]\n",
    "    z[2:7:x] = [13, 14, 15]\n",
    "    return z\n",
    "foo(2)"
   ]
  },
  {
   "cell_type": "code",
   "execution_count": null,
   "id": "e8c40ddf",
   "metadata": {},
   "outputs": [],
   "source": []
  },
  {
   "cell_type": "code",
   "execution_count": 140,
   "id": "4dd0d6b8",
   "metadata": {},
   "outputs": [
    {
     "data": {
      "text/plain": [
       "{'class': 'Module',\n",
       " 'body': [{'class': 'FunctionDef',\n",
       "   'name': 'foo',\n",
       "   'args': {'class': 'arguments',\n",
       "    'posonlyargs': [],\n",
       "    'args': [{'class': 'arg',\n",
       "      'arg': 'x',\n",
       "      'annotation': {'class': 'Name', 'id': 'int', 'ctx': {'class': 'Load'}},\n",
       "      'type_comment': None}],\n",
       "    'vararg': None,\n",
       "    'kwonlyargs': [],\n",
       "    'kw_defaults': [],\n",
       "    'kwarg': None,\n",
       "    'defaults': []},\n",
       "   'body': [{'class': 'Assign',\n",
       "     'targets': [{'class': 'Name', 'id': 'z', 'ctx': {'class': 'Store'}}],\n",
       "     'value': {'class': 'List',\n",
       "      'elts': [{'class': 'Constant', 'value': 1, 'kind': None},\n",
       "       {'class': 'Constant', 'value': 2, 'kind': None},\n",
       "       {'class': 'Constant', 'value': 3, 'kind': None},\n",
       "       {'class': 'Constant', 'value': 4, 'kind': None},\n",
       "       {'class': 'Constant', 'value': 5, 'kind': None},\n",
       "       {'class': 'Constant', 'value': 6, 'kind': None},\n",
       "       {'class': 'Constant', 'value': 7, 'kind': None},\n",
       "       {'class': 'Constant', 'value': 8, 'kind': None},\n",
       "       {'class': 'Constant', 'value': 9, 'kind': None},\n",
       "       {'class': 'Constant', 'value': 10, 'kind': None}],\n",
       "      'ctx': {'class': 'Load'}},\n",
       "     'type_comment': None},\n",
       "    {'class': 'Assign',\n",
       "     'targets': [{'class': 'Subscript',\n",
       "       'value': {'class': 'Name', 'id': 'z', 'ctx': {'class': 'Load'}},\n",
       "       'slice': {'class': 'Slice',\n",
       "        'lower': {'class': 'Constant', 'value': 2, 'kind': None},\n",
       "        'upper': {'class': 'Constant', 'value': 7, 'kind': None},\n",
       "        'step': {'class': 'Name', 'id': 'x', 'ctx': {'class': 'Load'}}},\n",
       "       'ctx': {'class': 'Store'}}],\n",
       "     'value': {'class': 'List',\n",
       "      'elts': [{'class': 'Constant', 'value': 13, 'kind': None},\n",
       "       {'class': 'Constant', 'value': 14, 'kind': None},\n",
       "       {'class': 'Constant', 'value': 15, 'kind': None}],\n",
       "      'ctx': {'class': 'Load'}},\n",
       "     'type_comment': None},\n",
       "    {'class': 'Return',\n",
       "     'value': {'class': 'Name', 'id': 'z', 'ctx': {'class': 'Load'}}}],\n",
       "   'decorator_list': [],\n",
       "   'returns': None,\n",
       "   'type_comment': None}],\n",
       " 'type_ignores': []}"
      ]
     },
     "execution_count": 140,
     "metadata": {},
     "output_type": "execute_result"
    }
   ],
   "source": [
    "to_dict(ast.parse(inspect.getsource(foo)))"
   ]
  },
  {
   "cell_type": "code",
   "execution_count": 145,
   "id": "196e9a14",
   "metadata": {},
   "outputs": [
    {
     "name": "stdout",
     "output_type": "stream",
     "text": [
      "def foo(x: Integer) = {\n",
      "  var z = scala.collection.mutable.Buffer(1, 2, 3, 4, 5, 6, 7, 8, 9, 10)\n",
      "  Range(2, 7, x).zip(scala.collection.mutable.Buffer(13, 14, 15)).foreach {(i, v) => z.insert(i, v) }\n",
      "  z\n",
      "}\n"
     ]
    }
   ],
   "source": [
    "print(pyala.to_str(foo))"
   ]
  },
  {
   "cell_type": "code",
   "execution_count": null,
   "id": "a3cdd925",
   "metadata": {},
   "outputs": [],
   "source": []
  },
  {
   "cell_type": "code",
   "execution_count": 136,
   "id": "366f3669",
   "metadata": {},
   "outputs": [],
   "source": []
  },
  {
   "cell_type": "code",
   "execution_count": 137,
   "id": "330c19d0",
   "metadata": {},
   "outputs": [],
   "source": [
    "?parse"
   ]
  },
  {
   "cell_type": "code",
   "execution_count": 139,
   "id": "35a2bac6",
   "metadata": {},
   "outputs": [],
   "source": [
    "r, v = parse(\"{}.map({}(_))\", \"Range(2, 7, 2).map(x(_))\")"
   ]
  },
  {
   "cell_type": "code",
   "execution_count": null,
   "id": "23a0b5ed",
   "metadata": {},
   "outputs": [],
   "source": []
  }
 ],
 "metadata": {
  "kernelspec": {
   "display_name": "Python 3 (ipykernel)",
   "language": "python",
   "name": "python3"
  },
  "language_info": {
   "codemirror_mode": {
    "name": "ipython",
    "version": 3
   },
   "file_extension": ".py",
   "mimetype": "text/x-python",
   "name": "python",
   "nbconvert_exporter": "python",
   "pygments_lexer": "ipython3",
   "version": "3.10.4"
  }
 },
 "nbformat": 4,
 "nbformat_minor": 5
}
